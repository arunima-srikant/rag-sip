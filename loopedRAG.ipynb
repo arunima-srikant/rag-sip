{
 "cells": [
  {
   "cell_type": "code",
   "execution_count": 8,
   "id": "d8971b7a",
   "metadata": {},
   "outputs": [],
   "source": [
    "from llama_index.core import VectorStoreIndex, Settings\n",
    "from llama_index.llms.ollama import Ollama as OllamaLLM\n",
    "from llama_index.embeddings.ollama import OllamaEmbedding\n",
    "from llama_index.core.schema import Document\n",
    "from llama_index.core.node_parser import SemanticSplitterNodeParser, TokenTextSplitter\n",
    "from llama_index.core.query_engine import RetrieverQueryEngine\n",
    "from docx import Document as DocxDocument"
   ]
  },
  {
   "cell_type": "code",
   "execution_count": 2,
   "id": "e2efb037",
   "metadata": {},
   "outputs": [],
   "source": [
    "def load_docx(file_path):\n",
    "    doc = DocxDocument(file_path)\n",
    "    return \"\\n\".join([p.text for p in doc.paragraphs if p.text.strip()])\n",
    "\n",
    "# Replace this with your actual docx file name\n",
    "docx_path = \"rag sample.docx\"\n",
    "text = load_docx(docx_path)\n",
    "documents = [Document(text=text)]"
   ]
  },
  {
   "cell_type": "code",
   "execution_count": 3,
   "id": "4bca7376",
   "metadata": {},
   "outputs": [],
   "source": [
    "EMBEDDING_MODEL = \"bge-m3\"\n",
    "LANGUAGE_MODEL = \"hf.co/bartowski/Llama-3.2-1B-Instruct-GGUF\"\n",
    "\n",
    "llm = OllamaLLM(model=LANGUAGE_MODEL, request_timeout=180.0, model_kwargs={\"temperature\":0})\n",
    "embed_model = OllamaEmbedding(model_name=EMBEDDING_MODEL)\n",
    "\n",
    "# Set models globally using the new Settings API\n",
    "Settings.llm = llm\n",
    "Settings.embed_model = embed_model"
   ]
  },
  {
   "cell_type": "code",
   "execution_count": null,
   "id": "5ea00b3d",
   "metadata": {},
   "outputs": [],
   "source": [
    "splitter = SemanticSplitterNodeParser(embed_model=embed_model, chunk_size=300)\n",
    "nodes = splitter.get_nodes_from_documents(documents)\n",
    "\n",
    "print(f\"Split into {len(nodes)} semantic chunks.\")"
   ]
  },
  {
   "cell_type": "code",
   "execution_count": 5,
   "id": "c63354bb",
   "metadata": {},
   "outputs": [
    {
     "name": "stdout",
     "output_type": "stream",
     "text": [
      "Split into 9 token-based chunks.\n"
     ]
    }
   ],
   "source": [
    "# Define a simple token-based splitter\n",
    "splitter = TokenTextSplitter(\n",
    "    separator=\" \",           # Split on spaces (default)\n",
    "    chunk_size=300,          # Max tokens per chunk\n",
    "    chunk_overlap=50,        # Number of overlapping tokens\n",
    ")\n",
    "\n",
    "# Get nodes\n",
    "nodes = splitter.get_nodes_from_documents(documents)\n",
    "\n",
    "print(f\"Split into {len(nodes)} token-based chunks.\")"
   ]
  },
  {
   "cell_type": "code",
   "execution_count": null,
   "id": "ffbbcc58",
   "metadata": {},
   "outputs": [],
   "source": [
    "for i, node in enumerate(nodes):\n",
    "    print(f\"\\n--- Chunk {i+1} ---\")\n",
    "    print(node.text)"
   ]
  },
  {
   "cell_type": "code",
   "execution_count": 10,
   "id": "afd643e1",
   "metadata": {},
   "outputs": [],
   "source": [
    "# Indexing\n",
    "index = VectorStoreIndex(nodes)\n",
    "\n",
    "# Retrieval & Simple Response (prevents crashing from long prompts)\n",
    "retriever = index.as_retriever(similarity_top_k=3)\n",
    "from llama_index.core.response_synthesizers import get_response_synthesizer\n",
    "\n",
    "synthesizer = get_response_synthesizer(response_mode=\"compact\")\n",
    "\n",
    "\n",
    "query_engine = RetrieverQueryEngine(\n",
    "    retriever=retriever,\n",
    "    response_synthesizer=synthesizer\n",
    ")"
   ]
  },
  {
   "cell_type": "code",
   "execution_count": null,
   "id": "201fd3a8",
   "metadata": {},
   "outputs": [],
   "source": [
    "# Get top-k retrieved nodes (chunks)\n",
    "retrieved_nodes = retriever.retrieve(\"According to the context, how are tolerances used during intermediate safety stock planning?\")\n",
    "\n",
    "# Print them with similarity scores\n",
    "for i, node in enumerate(retrieved_nodes, 1):\n",
    "    print(f\"\\n--- Chunk #{i} ---\")\n",
    "    print(f\"Similarity: {node.score:.4f}\")\n",
    "    print(f\"Content:\\n{node.node.get_content()}\")"
   ]
  },
  {
   "cell_type": "code",
   "execution_count": null,
   "id": "4680b746",
   "metadata": {},
   "outputs": [],
   "source": [
    "while True:\n",
    "    query = input(\"Enter your question. Type 'exit' to quit): \").strip()\n",
    "    if query.lower() in {\"exit\", \"quit\"}:\n",
    "        print(\"Exiting chat.\")\n",
    "        break\n",
    "\n",
    "    try:\n",
    "        response = query_engine.query(query)\n",
    "        print(\"Chatbot response:\", response, \"\\n\")\n",
    "    except Exception as e:\n",
    "        print(f\"Error: {e}\\n\")\n"
   ]
  }
 ],
 "metadata": {
  "kernelspec": {
   "display_name": ".venv",
   "language": "python",
   "name": "python3"
  },
  "language_info": {
   "codemirror_mode": {
    "name": "ipython",
    "version": 3
   },
   "file_extension": ".py",
   "mimetype": "text/x-python",
   "name": "python",
   "nbconvert_exporter": "python",
   "pygments_lexer": "ipython3",
   "version": "3.9.10"
  }
 },
 "nbformat": 4,
 "nbformat_minor": 5
}
